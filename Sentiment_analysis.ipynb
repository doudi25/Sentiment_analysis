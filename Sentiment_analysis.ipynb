{
  "nbformat": 4,
  "nbformat_minor": 0,
  "metadata": {
    "colab": {
      "provenance": [],
      "gpuType": "T4",
      "authorship_tag": "ABX9TyNO+W7vBR5h+d5sQvwvM7R9",
      "include_colab_link": true
    },
    "kernelspec": {
      "name": "python3",
      "display_name": "Python 3"
    },
    "language_info": {
      "name": "python"
    },
    "accelerator": "GPU"
  },
  "cells": [
    {
      "cell_type": "markdown",
      "metadata": {
        "id": "view-in-github",
        "colab_type": "text"
      },
      "source": [
        "<a href=\"https://colab.research.google.com/github/doudi25/Sentiment_analysis/blob/main/Sentiment_analysis.ipynb\" target=\"_parent\"><img src=\"https://colab.research.google.com/assets/colab-badge.svg\" alt=\"Open In Colab\"/></a>"
      ]
    },
    {
      "cell_type": "code",
      "source": [
        "# Twitter dataset available @ https://www.kaggle.com/arkhoshghalb/twitter-sentiment-analysis-hatred-speech"
      ],
      "metadata": {
        "id": "PDCQdygYEt-w"
      },
      "execution_count": null,
      "outputs": []
    },
    {
      "cell_type": "code",
      "source": [
        "!unzip  file.zip"
      ],
      "metadata": {
        "id": "H21S-2Sr_2c1",
        "colab": {
          "base_uri": "https://localhost:8080/"
        },
        "outputId": "80b96814-64ed-461d-9612-63f9c9f93a84"
      },
      "execution_count": null,
      "outputs": [
        {
          "output_type": "stream",
          "name": "stdout",
          "text": [
            "Archive:  file.zip\n",
            "  inflating: test.csv                \n",
            "  inflating: train.csv               \n"
          ]
        }
      ]
    },
    {
      "cell_type": "code",
      "source": [
        "import pandas as pd\n",
        "\n",
        "# Read the training data from a CSV file into a DataFrame\n",
        "train_df = pd.read_csv('train.csv')\n",
        "\n",
        "# Count the occurrences of binary labels in the 'label' column\n",
        "label_counts = train_df['label'].value_counts()\n",
        "label_counts"
      ],
      "metadata": {
        "id": "yv2Al8v91iI2",
        "colab": {
          "base_uri": "https://localhost:8080/"
        },
        "outputId": "5e1580a9-5185-4325-8cd5-d20e78510127"
      },
      "execution_count": null,
      "outputs": [
        {
          "output_type": "execute_result",
          "data": {
            "text/plain": [
              "label\n",
              "0    29720\n",
              "1     2242\n",
              "Name: count, dtype: int64"
            ]
          },
          "metadata": {},
          "execution_count": 4
        }
      ]
    },
    {
      "cell_type": "code",
      "source": [
        "!wget http://downloads.cs.stanford.edu/nlp/data/glove.6B.zip"
      ],
      "metadata": {
        "colab": {
          "base_uri": "https://localhost:8080/"
        },
        "id": "8STsWmmjGfw4",
        "outputId": "e964f43b-71e2-4ac7-eb84-b17e861f6eca"
      },
      "execution_count": null,
      "outputs": [
        {
          "output_type": "stream",
          "name": "stdout",
          "text": [
            "--2024-04-12 14:12:51--  http://downloads.cs.stanford.edu/nlp/data/glove.6B.zip\n",
            "Resolving downloads.cs.stanford.edu (downloads.cs.stanford.edu)... 171.64.64.22\n",
            "Connecting to downloads.cs.stanford.edu (downloads.cs.stanford.edu)|171.64.64.22|:80... connected.\n",
            "HTTP request sent, awaiting response... 200 OK\n",
            "Length: 862182613 (822M) [application/zip]\n",
            "Saving to: ‘glove.6B.zip’\n",
            "\n",
            "glove.6B.zip        100%[===================>] 822.24M  5.27MB/s    in 2m 41s  \n",
            "\n",
            "2024-04-12 14:15:32 (5.10 MB/s) - ‘glove.6B.zip’ saved [862182613/862182613]\n",
            "\n"
          ]
        }
      ]
    },
    {
      "cell_type": "code",
      "source": [
        "!unzip glove.6B.zip"
      ],
      "metadata": {
        "colab": {
          "base_uri": "https://localhost:8080/"
        },
        "id": "URsgZDhDHaXM",
        "outputId": "dba38a6b-78b0-4a73-fd86-0c5e39791a0d"
      },
      "execution_count": null,
      "outputs": [
        {
          "output_type": "stream",
          "name": "stdout",
          "text": [
            "Archive:  glove.6B.zip\n",
            "  inflating: glove.6B.50d.txt        \n",
            "  inflating: glove.6B.100d.txt       \n",
            "  inflating: glove.6B.200d.txt       \n",
            "  inflating: glove.6B.300d.txt       \n"
          ]
        }
      ]
    },
    {
      "cell_type": "code",
      "source": [
        "import numpy as np\n",
        "\n",
        "# Create an empty dictionary to store word embeddings\n",
        "words = dict()\n",
        "\n",
        "# Function to add word embeddings to the dictionary\n",
        "def add_to_dict(d, filename):\n",
        "    # Open the file containing word embeddings\n",
        "    with open(filename, 'r') as f:\n",
        "        # Iterate through each line in the file\n",
        "        for line in f.readlines():\n",
        "            # Split the line into word and its embedding components\n",
        "            line = line.split(' ')\n",
        "            try:\n",
        "                # Convert the embedding components to a NumPy array\n",
        "                # and store it in the dictionary with the word as key\n",
        "                d[line[0]] = np.array(line[1:], dtype=float)\n",
        "            except:\n",
        "                # Skip the line if it cannot be parsed (e.g., if it's a header)\n",
        "                continue\n",
        "\n",
        "# Call the function to add word embeddings from the specified file\n",
        "add_to_dict(words, 'glove.6B.50d.txt')\n",
        "words"
      ],
      "metadata": {
        "id": "mDPRrSki0H4k"
      },
      "execution_count": null,
      "outputs": []
    },
    {
      "cell_type": "code",
      "source": [
        "import spacy\n",
        "# Load the english model\n",
        "nlp = spacy.load(\"en_core_web_sm\")\n",
        "\n"
      ],
      "metadata": {
        "id": "StKrJBS40_Od"
      },
      "execution_count": null,
      "outputs": []
    },
    {
      "cell_type": "code",
      "source": [
        "def message_to_token_list(s):\n",
        "    \"\"\"\n",
        "    Tokenize a message and return a list of useful tokens.\n",
        "\n",
        "    Args:\n",
        "    - s (str): The input message to tokenize.\n",
        "\n",
        "    Returns:\n",
        "    - list: A list of useful tokens extracted from the message.\n",
        "    \"\"\"\n",
        "    # Tokenize the input message and lemmatize each token\n",
        "    lemmatized_tokens = [token.lemma_ for token in nlp(s.lower())]\n",
        "    # Filter out tokens that are not present in the word embedding dictionary\n",
        "    useful_tokens = [t for t in lemmatized_tokens if t in words]\n",
        "    return useful_tokens"
      ],
      "metadata": {
        "id": "qXGGO2-25h60"
      },
      "execution_count": null,
      "outputs": []
    },
    {
      "cell_type": "code",
      "source": [
        "def message_to_word_vectors(message, word_dict=words):\n",
        "    \"\"\"\n",
        "    Convert a message into a sequence of word vectors using a pre-trained word embedding dictionary.\n",
        "\n",
        "    Args:\n",
        "    - message (str): The input message to convert.\n",
        "    - word_dict (dict): A dictionary mapping words to their corresponding word vectors.\n",
        "\n",
        "    Returns:\n",
        "    - numpy.ndarray: An array containing the word vectors for each token in the message.\n",
        "    \"\"\"\n",
        "    # Tokenize the message into a list of tokens\n",
        "    processed_list_of_tokens = message_to_token_list(message)\n",
        "    vectors = []\n",
        "    # Iterate through each token in the tokenized message\n",
        "    for token in processed_list_of_tokens:\n",
        "        # Check if the token exists in the word dictionary\n",
        "        if token not in word_dict:\n",
        "            continue\n",
        "        # Retrieve the word vector corresponding to the token\n",
        "        token_vector = word_dict[token]\n",
        "        # Append the word vector to the list of vectors\n",
        "        vectors.append(token_vector)\n",
        "    # Convert the list of vectors to a numpy array\n",
        "    return np.array(vectors, dtype=float)\n"
      ],
      "metadata": {
        "id": "fk9OZoqq7WX1"
      },
      "execution_count": null,
      "outputs": []
    },
    {
      "cell_type": "code",
      "source": [
        "from sklearn.model_selection import train_test_split\n",
        "\n",
        "# Shuffle the data\n",
        "train_df_shuffled = train_df.sample(frac=1, random_state=1).reset_index(drop=True)\n",
        "\n",
        "# Split the data into training, validation, and test sets\n",
        "train_df, test_df = train_test_split(train_df_shuffled, test_size=0.3, random_state=1)\n",
        "val_df, test_df = train_test_split(test_df, test_size=0.5, random_state=1)\n"
      ],
      "metadata": {
        "id": "sMsy_biX9vVr"
      },
      "execution_count": null,
      "outputs": []
    },
    {
      "cell_type": "code",
      "source": [
        "def df_to_X_y(dff):\n",
        "    \"\"\"\n",
        "    Convert DataFrame to input features (X) and labels (y).\n",
        "\n",
        "    Args:\n",
        "    - dff: DataFrame containing 'tweet' and 'label' columns.\n",
        "\n",
        "    Returns:\n",
        "    - X: List of word vector sequences for each tweet.\n",
        "    - y: Array of labels.\n",
        "    \"\"\"\n",
        "    # Extract labels from DataFrame and convert to numpy array\n",
        "    y = dff['label'].to_numpy().astype(int)\n",
        "\n",
        "    # Convert each tweet to a sequence of word vectors\n",
        "    all_word_vector_sequences = []\n",
        "\n",
        "    for message in dff['tweet']:\n",
        "        # Convert message to word vectors\n",
        "        message_as_vector_seq = message_to_word_vectors(message)\n",
        "\n",
        "        # Handle empty sequences by replacing with a zero vector\n",
        "        if message_as_vector_seq.shape[0] == 0:\n",
        "            message_as_vector_seq = np.zeros(shape=(1, 50))\n",
        "\n",
        "        all_word_vector_sequences.append(message_as_vector_seq)\n",
        "\n",
        "    return all_word_vector_sequences, y\n",
        "\n",
        "\n"
      ],
      "metadata": {
        "id": "xFaHiL_H90WH"
      },
      "execution_count": null,
      "outputs": []
    },
    {
      "cell_type": "code",
      "source": [
        "X_train, y_train = df_to_X_y(train_df)"
      ],
      "metadata": {
        "id": "t18m2tR__grd"
      },
      "execution_count": null,
      "outputs": []
    },
    {
      "cell_type": "code",
      "source": [
        "import matplotlib.pyplot as plt\n",
        "\n",
        "# Initialize list to store sequence lengths\n",
        "sequence_lengths = []\n",
        "\n",
        "# Iterate over each message in the training set\n",
        "for i in range(len(X_train)):\n",
        "    # Append the length of the current message to the list\n",
        "    sequence_lengths.append(len(X_train[i]))\n",
        "\n",
        "# Plot histogram of sequence lengths\n",
        "plt.hist(sequence_lengths)\n",
        "plt.xlabel('Sequence Length')\n",
        "plt.ylabel('Frequency')\n",
        "plt.title('Distribution of Message Sequence Lengths')\n",
        "plt.show()\n"
      ],
      "metadata": {
        "colab": {
          "base_uri": "https://localhost:8080/",
          "height": 472
        },
        "id": "rHSml1wiDqJ1",
        "outputId": "46387497-43ea-4197-b25f-c7bf1a2670ca"
      },
      "execution_count": null,
      "outputs": [
        {
          "output_type": "display_data",
          "data": {
            "text/plain": [
              "<Figure size 640x480 with 1 Axes>"
            ],
            "image/png": "[encoded data removed]"
          },
          "metadata": {}
        }
      ]
    },
    {
      "cell_type": "code",
      "source": [
        "pd.Series(sequence_lengths).describe()"
      ],
      "metadata": {
        "colab": {
          "base_uri": "https://localhost:8080/"
        },
        "id": "2G1ek4zME6Uh",
        "outputId": "fbe40524-dc51-40d6-c0ff-e7a0e78d1e2c"
      },
      "execution_count": null,
      "outputs": [
        {
          "output_type": "execute_result",
          "data": {
            "text/plain": [
              "count    22373.000000\n",
              "mean        14.912707\n",
              "std          6.540725\n",
              "min          1.000000\n",
              "25%         10.000000\n",
              "50%         15.000000\n",
              "75%         20.000000\n",
              "max         73.000000\n",
              "dtype: float64"
            ]
          },
          "metadata": {},
          "execution_count": 15
        }
      ]
    },
    {
      "cell_type": "code",
      "source": [
        "from copy import deepcopy\n",
        "\n",
        "def pad_X(X, desired_sequence_length=75):\n",
        "    \"\"\"\n",
        "    Pad sequences in X to desired sequence length.\n",
        "\n",
        "    Args:\n",
        "    - X (np.ndarray): Array of sequence vectors.\n",
        "    - desired_sequence_length (int): Desired sequence length after padding.\n",
        "\n",
        "    Returns:\n",
        "    - np.ndarray: Padded array of sequence vectors.\n",
        "    \"\"\"\n",
        "    # Create a deep copy of X to avoid modifying the original array\n",
        "    X_copy = deepcopy(X)\n",
        "\n",
        "    # Iterate over each sequence vector in X\n",
        "    for i, x in enumerate(X):\n",
        "        # Get the length of the current sequence\n",
        "        x_seq_len = x.shape[0]\n",
        "\n",
        "        # Calculate the difference between the desired sequence length and the current sequence length\n",
        "        sequence_length_difference = desired_sequence_length - x_seq_len\n",
        "\n",
        "        # Create a padding array of zeros with the appropriate shape\n",
        "        pad = np.zeros(shape=(sequence_length_difference, 50))\n",
        "\n",
        "        # Concatenate the padding array to the end of the current sequence vector\n",
        "        X_copy[i] = np.concatenate([x, pad])\n",
        "\n",
        "    # Convert the padded array to float and return\n",
        "    return np.array(X_copy).astype('float')\n",
        "\n"
      ],
      "metadata": {
        "id": "c68p0XhCh9Pf"
      },
      "execution_count": null,
      "outputs": []
    },
    {
      "cell_type": "code",
      "source": [
        "X_train=pad_X(X_train)\n",
        "\n",
        "#Tensor of 22373 sentences , each sentence is made of 75 words whether is padding with zeros or original lengt\n",
        "#each word represented with length of 50 in the embedded space\n",
        "X_train.shape"
      ],
      "metadata": {
        "colab": {
          "base_uri": "https://localhost:8080/"
        },
        "id": "9D1FpGPbjU3l",
        "outputId": "6241b5a5-a313-4f9d-9209-99d9cf4cf065"
      },
      "execution_count": null,
      "outputs": [
        {
          "output_type": "execute_result",
          "data": {
            "text/plain": [
              "(22373, 75, 50)"
            ]
          },
          "metadata": {},
          "execution_count": 17
        }
      ]
    },
    {
      "cell_type": "code",
      "source": [
        "X_val,y_val=df_to_X_y(val_df)\n",
        "\n",
        "X_val=pad_X(X_val)\n",
        "\n",
        "X_val.shape\n"
      ],
      "metadata": {
        "colab": {
          "base_uri": "https://localhost:8080/"
        },
        "id": "EUdxRGhPlAmO",
        "outputId": "5be30c6a-935a-435d-ca8d-3aaec1368255"
      },
      "execution_count": null,
      "outputs": [
        {
          "output_type": "execute_result",
          "data": {
            "text/plain": [
              "(4794, 75, 50)"
            ]
          },
          "metadata": {},
          "execution_count": 18
        }
      ]
    },
    {
      "cell_type": "code",
      "source": [
        "X_test, y_test = df_to_X_y(test_df)\n",
        "\n",
        "X_test = pad_X(X_test)\n",
        "\n",
        "X_test.shape"
      ],
      "metadata": {
        "colab": {
          "base_uri": "https://localhost:8080/"
        },
        "id": "SKtQSQSFlrca",
        "outputId": "00331882-a0ab-40d2-afd3-de473b78e8f9"
      },
      "execution_count": null,
      "outputs": [
        {
          "output_type": "execute_result",
          "data": {
            "text/plain": [
              "(4795, 75, 50)"
            ]
          },
          "metadata": {},
          "execution_count": 19
        }
      ]
    },
    {
      "cell_type": "code",
      "source": [
        "from keras import layers\n",
        "from keras.models import Sequential"
      ],
      "metadata": {
        "id": "Jg3susDolxU3"
      },
      "execution_count": null,
      "outputs": []
    },
    {
      "cell_type": "code",
      "source": [
        "model=Sequential([])\n",
        "model.add(layers.Input(shape=(75,50)))\n",
        "model.add(layers.LSTM(64,return_sequences=True))\n",
        "model.add(layers.Dropout(0.2))\n",
        "model.add(layers.LSTM(64,return_sequences=True))\n",
        "model.add(layers.Dropout(0.2))\n",
        "model.add(layers.LSTM(64,return_sequences=True))\n",
        "model.add(layers.Dropout(0.2))\n",
        "model.add(layers.Flatten())\n",
        "model.add(layers.Dense(1,activation='sigmoid'))\n",
        "\n"
      ],
      "metadata": {
        "id": "FnQR9a4QmzJ6"
      },
      "execution_count": null,
      "outputs": []
    },
    {
      "cell_type": "code",
      "source": [
        "model.summary()"
      ],
      "metadata": {
        "colab": {
          "base_uri": "https://localhost:8080/"
        },
        "id": "rKz6bNazny-t",
        "outputId": "4ed1f4b0-ef75-4842-bd2c-159a4bad384e"
      },
      "execution_count": null,
      "outputs": [
        {
          "output_type": "stream",
          "name": "stdout",
          "text": [
            "Model: \"sequential\"\n",
            "_________________________________________________________________\n",
            " Layer (type)                Output Shape              Param #   \n",
            "=================================================================\n",
            " lstm (LSTM)                 (None, 75, 64)            29440     \n",
            "                                                                 \n",
            " dropout (Dropout)           (None, 75, 64)            0         \n",
            "                                                                 \n",
            " lstm_1 (LSTM)               (None, 75, 64)            33024     \n",
            "                                                                 \n",
            " dropout_1 (Dropout)         (None, 75, 64)            0         \n",
            "                                                                 \n",
            " lstm_2 (LSTM)               (None, 75, 64)            33024     \n",
            "                                                                 \n",
            " dropout_2 (Dropout)         (None, 75, 64)            0         \n",
            "                                                                 \n",
            " flatten (Flatten)           (None, 4800)              0         \n",
            "                                                                 \n",
            " dense (Dense)               (None, 1)                 4801      \n",
            "                                                                 \n",
            "=================================================================\n",
            "Total params: 100289 (391.75 KB)\n",
            "Trainable params: 100289 (391.75 KB)\n",
            "Non-trainable params: 0 (0.00 Byte)\n",
            "_________________________________________________________________\n"
          ]
        }
      ]
    },
    {
      "cell_type": "code",
      "source": [
        "from keras.losses import BinaryCrossentropy\n",
        "from keras.optimizers import Adam\n",
        "from keras.metrics import AUC\n",
        "from keras.callbacks import ModelCheckpoint\n",
        "\n",
        "# Define a ModelCheckpoint callback to save the best model during training\n",
        "cp = ModelCheckpoint('model/', save_best_only=True)\n",
        "\n",
        "# Compile the model\n",
        "model.compile(optimizer=Adam(learning_rate=0.0001),  # Using Adam optimizer with a specific learning rate\n",
        "              loss=BinaryCrossentropy(),  # Using Binary Crossentropy loss function\n",
        "              metrics=['accuracy', AUC(name='auc')])  # Monitoring accuracy and AUC metrics during training\n"
      ],
      "metadata": {
        "id": "T3WRvIsQn8CY"
      },
      "execution_count": null,
      "outputs": []
    },
    {
      "cell_type": "code",
      "source": [
        "frequencies = pd.value_counts(train_df['label'])\n",
        "\n",
        "frequencies"
      ],
      "metadata": {
        "colab": {
          "base_uri": "https://localhost:8080/"
        },
        "id": "F-h7_jKSpBLR",
        "outputId": "0c398787-af1d-488a-e29d-3047c9cfe49d"
      },
      "execution_count": null,
      "outputs": [
        {
          "output_type": "execute_result",
          "data": {
            "text/plain": [
              "label\n",
              "0    20794\n",
              "1     1579\n",
              "Name: count, dtype: int64"
            ]
          },
          "metadata": {},
          "execution_count": 25
        }
      ]
    },
    {
      "cell_type": "code",
      "source": [
        "weights = {0: frequencies.sum() / frequencies[0], 1: frequencies.sum() / frequencies[1]}\n",
        "weights"
      ],
      "metadata": {
        "colab": {
          "base_uri": "https://localhost:8080/"
        },
        "id": "kBTHNHzbpe6K",
        "outputId": "04ce6eaa-0d62-4c52-a79d-027f0d551f39"
      },
      "execution_count": null,
      "outputs": [
        {
          "output_type": "execute_result",
          "data": {
            "text/plain": [
              "{0: 1.0759353659709532, 1: 14.169094363521216}"
            ]
          },
          "metadata": {},
          "execution_count": 26
        }
      ]
    },
    {
      "cell_type": "code",
      "source": [
        "model.fit(X_train, y_train, validation_data=(X_val, y_val), epochs=20, callbacks=[cp], class_weight=weights)"
      ],
      "metadata": {
        "colab": {
          "base_uri": "https://localhost:8080/"
        },
        "id": "opBRuwLnphys",
        "outputId": "a5a05580-b869-48bd-e5b1-a840cb930ba9"
      },
      "execution_count": null,
      "outputs": [
        {
          "output_type": "stream",
          "name": "stdout",
          "text": [
            "Epoch 1/20\n",
            "700/700 [==============================] - 39s 36ms/step - loss: 1.0620 - accuracy: 0.7601 - auc: 0.8107 - val_loss: 0.3018 - val_accuracy: 0.8761 - val_auc: 0.8874\n",
            "Epoch 2/20\n",
            "700/700 [==============================] - 10s 14ms/step - loss: 0.8733 - accuracy: 0.7970 - auc: 0.8795 - val_loss: 0.3968 - val_accuracy: 0.8171 - val_auc: 0.8967\n",
            "Epoch 3/20\n",
            "700/700 [==============================] - 18s 25ms/step - loss: 0.8237 - accuracy: 0.8099 - auc: 0.8938 - val_loss: 0.4158 - val_accuracy: 0.8089 - val_auc: 0.9006\n",
            "Epoch 4/20\n",
            "700/700 [==============================] - 16s 23ms/step - loss: 0.7955 - accuracy: 0.8200 - auc: 0.9015 - val_loss: 0.3711 - val_accuracy: 0.8338 - val_auc: 0.9049\n",
            "Epoch 5/20\n",
            "700/700 [==============================] - 14s 21ms/step - loss: 0.7684 - accuracy: 0.8247 - auc: 0.9082 - val_loss: 0.4336 - val_accuracy: 0.7958 - val_auc: 0.9073\n",
            "Epoch 6/20\n",
            "700/700 [==============================] - 19s 27ms/step - loss: 0.7508 - accuracy: 0.8264 - auc: 0.9125 - val_loss: 0.4953 - val_accuracy: 0.7589 - val_auc: 0.9076\n",
            "Epoch 7/20\n",
            "700/700 [==============================] - 11s 16ms/step - loss: 0.7367 - accuracy: 0.8255 - auc: 0.9157 - val_loss: 0.3525 - val_accuracy: 0.8421 - val_auc: 0.9125\n",
            "Epoch 8/20\n",
            "700/700 [==============================] - 13s 18ms/step - loss: 0.7155 - accuracy: 0.8338 - auc: 0.9205 - val_loss: 0.4435 - val_accuracy: 0.7847 - val_auc: 0.9143\n",
            "Epoch 9/20\n",
            "700/700 [==============================] - 11s 15ms/step - loss: 0.7090 - accuracy: 0.8373 - auc: 0.9222 - val_loss: 0.4406 - val_accuracy: 0.7772 - val_auc: 0.9157\n",
            "Epoch 10/20\n",
            "700/700 [==============================] - 22s 32ms/step - loss: 0.6909 - accuracy: 0.8377 - auc: 0.9261 - val_loss: 0.2299 - val_accuracy: 0.9013 - val_auc: 0.9085\n",
            "Epoch 11/20\n",
            "700/700 [==============================] - 14s 21ms/step - loss: 0.6784 - accuracy: 0.8406 - auc: 0.9290 - val_loss: 0.3742 - val_accuracy: 0.8060 - val_auc: 0.9158\n",
            "Epoch 12/20\n",
            "700/700 [==============================] - 10s 14ms/step - loss: 0.6680 - accuracy: 0.8419 - auc: 0.9312 - val_loss: 0.3461 - val_accuracy: 0.8456 - val_auc: 0.9158\n",
            "Epoch 13/20\n",
            "700/700 [==============================] - 16s 23ms/step - loss: 0.6530 - accuracy: 0.8474 - auc: 0.9342 - val_loss: 0.4121 - val_accuracy: 0.8058 - val_auc: 0.9179\n",
            "Epoch 14/20\n",
            "700/700 [==============================] - 11s 16ms/step - loss: 0.6276 - accuracy: 0.8481 - auc: 0.9387 - val_loss: 0.3406 - val_accuracy: 0.8331 - val_auc: 0.9199\n",
            "Epoch 15/20\n",
            "700/700 [==============================] - 13s 19ms/step - loss: 0.6230 - accuracy: 0.8528 - auc: 0.9401 - val_loss: 0.3461 - val_accuracy: 0.8396 - val_auc: 0.9156\n",
            "Epoch 16/20\n",
            "700/700 [==============================] - 12s 17ms/step - loss: 0.5989 - accuracy: 0.8582 - auc: 0.9444 - val_loss: 0.3544 - val_accuracy: 0.8467 - val_auc: 0.9188\n",
            "Epoch 17/20\n",
            "700/700 [==============================] - 13s 19ms/step - loss: 0.5952 - accuracy: 0.8563 - auc: 0.9449 - val_loss: 0.2655 - val_accuracy: 0.8807 - val_auc: 0.9254\n",
            "Epoch 18/20\n",
            "700/700 [==============================] - 11s 16ms/step - loss: 0.5851 - accuracy: 0.8610 - auc: 0.9469 - val_loss: 0.3246 - val_accuracy: 0.8492 - val_auc: 0.9252\n",
            "Epoch 19/20\n",
            "700/700 [==============================] - 17s 24ms/step - loss: 0.5738 - accuracy: 0.8581 - auc: 0.9485 - val_loss: 0.3410 - val_accuracy: 0.8367 - val_auc: 0.9248\n",
            "Epoch 20/20\n",
            "700/700 [==============================] - 13s 18ms/step - loss: 0.5584 - accuracy: 0.8640 - auc: 0.9513 - val_loss: 0.3012 - val_accuracy: 0.8567 - val_auc: 0.9161\n"
          ]
        },
        {
          "output_type": "execute_result",
          "data": {
            "text/plain": [
              "<keras.src.callbacks.History at 0x7a3b041c9840>"
            ]
          },
          "metadata": {},
          "execution_count": 27
        }
      ]
    },
    {
      "cell_type": "code",
      "source": [
        "from keras.models import load_model\n",
        "\n",
        "best_model = load_model('model/')\n"
      ],
      "metadata": {
        "id": "8QgCtS2WseVP"
      },
      "execution_count": null,
      "outputs": []
    },
    {
      "cell_type": "code",
      "source": [
        "# Generate predictions on the test set using the best_model\n",
        "test_predictions = (best_model.predict(X_test) > 0.5).astype(int)\n",
        "\n",
        "# Import the classification_report function from sklearn.metrics\n",
        "from sklearn.metrics import classification_report\n",
        "\n",
        "# Print the classification report, which includes precision, recall, F1-score, and support for each class\n",
        "print(classification_report(y_test, test_predictions))\n"
      ],
      "metadata": {
        "colab": {
          "base_uri": "https://localhost:8080/"
        },
        "id": "vgdEPCWrsjQp",
        "outputId": "2037df36-59b5-4efb-f184-d1f004d83943"
      },
      "execution_count": null,
      "outputs": [
        {
          "output_type": "stream",
          "name": "stdout",
          "text": [
            "150/150 [==============================] - 2s 8ms/step\n",
            "              precision    recall  f1-score   support\n",
            "\n",
            "           0       0.98      0.92      0.95      4478\n",
            "           1       0.38      0.70      0.49       317\n",
            "\n",
            "    accuracy                           0.90      4795\n",
            "   macro avg       0.68      0.81      0.72      4795\n",
            "weighted avg       0.94      0.90      0.92      4795\n",
            "\n"
          ]
        }
      ]
    }
  ]
}